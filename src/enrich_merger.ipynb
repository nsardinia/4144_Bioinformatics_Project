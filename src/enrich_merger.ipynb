{
 "cells": [
  {
   "cell_type": "code",
   "execution_count": 1,
   "id": "fbda8204-6cde-40ee-a40e-06c5aae4f040",
   "metadata": {},
   "outputs": [],
   "source": [
    "import pandas as pd\n",
    "from pathlib import Path"
   ]
  },
  {
   "cell_type": "code",
   "execution_count": 11,
   "id": "2032ac59-12ba-47c1-99a6-8960cea8b209",
   "metadata": {},
   "outputs": [],
   "source": [
    "CP = [\n",
    "    \"..\\\\results\\Assn2_Q5\\ClusterProfiler\\CP_enrichment_results_t0_t24.csv\",\n",
    "    \"..\\\\results\\Assn2_Q5\\ClusterProfiler\\CP_enrichment_results_t0_t48.csv\",\n",
    "    \"..\\\\results\\Assn2_Q5\\ClusterProfiler\\CP_enrichment_results_t0_t72.csv\",\n",
    "    \"..\\\\results\\Assn2_Q5\\ClusterProfiler\\CP_enrichment_results_t24_t48.csv\",\n",
    "    \"..\\\\results\\Assn2_Q5\\ClusterProfiler\\CP_enrichment_results_t24_t72.csv\",\n",
    "    \"..\\\\results\\Assn2_Q5\\ClusterProfiler\\CP_enrichment_results_t48_t72.csv\",\n",
    "]\n",
    "GP = [\n",
    "    \"..\\\\results\\Assn2_Q5\\GProfiler2\\GProf_enrichment_results_t0_t24.csv\",\n",
    "    \"..\\\\results\\Assn2_Q5\\GProfiler2\\GProf_enrichment_results_t0_t48.csv\",\n",
    "    \"..\\\\results\\Assn2_Q5\\GProfiler2\\GProf_enrichment_results_t0_t72.csv\",\n",
    "    \"..\\\\results\\Assn2_Q5\\GProfiler2\\GProf_enrichment_results_t24_t48.csv\",\n",
    "    \"..\\\\results\\Assn2_Q5\\GProfiler2\\GProf_enrichment_results_t24_t72.csv\",\n",
    "    \"..\\\\results\\Assn2_Q5\\GProfiler2\\GProf_enrichment_results_t48_t72.csv\",\n",
    "]\n",
    "GO = [\n",
    "    \"..\\\\results\\Assn2_Q5\\\\topGO\\coupled\\GO_enrichment_results_t0_t24.csv\",\n",
    "    \"..\\\\results\\Assn2_Q5\\\\topGO\\coupled\\GO_enrichment_results_t0_t48.csv\",\n",
    "    \"..\\\\results\\Assn2_Q5\\\\topGO\\coupled\\GO_enrichment_results_t0_t72.csv\",\n",
    "    \"..\\\\results\\Assn2_Q5\\\\topGO\\coupled\\GO_enrichment_results_t24_t48.csv\",\n",
    "    \"..\\\\results\\Assn2_Q5\\\\topGO\\coupled\\GO_enrichment_results_t24_t72.csv\",\n",
    "    \"..\\\\results\\Assn2_Q5\\\\topGO\\coupled\\GO_enrichment_results_t48_t72.csv\"\n",
    "]"
   ]
  },
  {
   "cell_type": "code",
   "execution_count": 12,
   "id": "dbc2d2ad-51fe-404e-8b69-0c253576bc34",
   "metadata": {},
   "outputs": [],
   "source": [
    "CP_KEY = \"ID\"\n",
    "GP_KEY = \"term_id\"\n",
    "GO_KEY = \"GO.ID\""
   ]
  },
  {
   "cell_type": "code",
   "execution_count": 16,
   "id": "9cf2056e-f07d-4272-93cb-a8fd2dc950b1",
   "metadata": {},
   "outputs": [
    {
     "name": "stdout",
     "output_type": "stream",
     "text": [
      "Saved combined_1.csv\n",
      "Saved combined_2.csv\n",
      "Saved combined_3.csv\n",
      "Saved combined_4.csv\n",
      "Saved combined_5.csv\n",
      "Saved combined_6.csv\n"
     ]
    }
   ],
   "source": [
    "for i, (cp, gp, go) in enumerate(zip(CP, GP, GO), start=1):\n",
    "    dcp = pd.read_csv(Path(cp).resolve().absolute())\n",
    "    dgp = pd.read_csv(Path(gp).resolve().absolute())\n",
    "    dgo = pd.read_csv(Path(go).resolve().absolute())\n",
    "\n",
    "    # Standardize key column name across all dataframes\n",
    "    dcp = dcp.rename(columns={CP_KEY: \"key\"})\n",
    "    dgp = dgp.rename(columns={GP_KEY: \"key\"})\n",
    "    dgo = dgo.rename(columns={GO_KEY: \"key\"})\n",
    "\n",
    "    # Add source tag to avoid column name collisions\n",
    "    dcp = dcp.add_prefix(\"cp_\")\n",
    "    dgp = dgp.add_prefix(\"gp_\")\n",
    "    dgo = dgo.add_prefix(\"go_\")\n",
    "\n",
    "    # Restore key column name\n",
    "    dcp = dcp.rename(columns={\"cp_key\": \"key\"})\n",
    "    dgp = dgp.rename(columns={\"gp_key\": \"key\"})\n",
    "    dgo = dgo.rename(columns={\"go_key\": \"key\"})\n",
    "\n",
    "    # Merge all on the \"key\" column (outer join to include all keys)\n",
    "    merged = pd.merge(dcp, dgp, on=\"key\", how=\"outer\")\n",
    "    merged = pd.merge(merged, dgo, on=\"key\", how=\"outer\")\n",
    "\n",
    "    # Count number of appearances of each key across the 3 files\n",
    "    merged[\"count\"] = (\n",
    "        merged[\"key\"].isin(dcp[\"key\"]).astype(int)\n",
    "        + merged[\"key\"].isin(dgp[\"key\"]).astype(int)\n",
    "        + merged[\"key\"].isin(dgo[\"key\"]).astype(int)\n",
    "    )\n",
    "\n",
    "    cols = [\"key\", \"count\"] + [c for c in merged.columns if c not in (\"key\", \"count\")]\n",
    "    merged = merged[cols]\n",
    "\n",
    "    merged = merged.sort_values(by=\"count\", ascending=False)\n",
    "\n",
    "    # Save output CSV\n",
    "    out_file = f\"combined_{i}.csv\"\n",
    "    merged.to_csv(out_file, index=False)\n",
    "    print(f\"Saved {out_file}\")"
   ]
  },
  {
   "cell_type": "code",
   "execution_count": null,
   "id": "0f51e6dd-43c0-4d12-9ec8-dd1afd0e3050",
   "metadata": {},
   "outputs": [],
   "source": []
  }
 ],
 "metadata": {
  "kernelspec": {
   "display_name": "Python 3 (ipykernel)",
   "language": "python",
   "name": "python3"
  },
  "language_info": {
   "codemirror_mode": {
    "name": "ipython",
    "version": 3
   },
   "file_extension": ".py",
   "mimetype": "text/x-python",
   "name": "python",
   "nbconvert_exporter": "python",
   "pygments_lexer": "ipython3",
   "version": "3.11.9"
  }
 },
 "nbformat": 4,
 "nbformat_minor": 5
}
